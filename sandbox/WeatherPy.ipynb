{
 "cells": [
  {
   "cell_type": "code",
   "execution_count": 1,
   "metadata": {
    "scrolled": true
   },
   "outputs": [],
   "source": [
    "# UCBSAN201811DATA2\n",
    "# Data Analytics Boot Camp\n",
    "# Instructor: Aash Anand\n",
    "# Class TA: Allen Lu\n",
    "# Python APIs Homework\n",
    "# Due Saturday 01/12/19\n",
    "# Joe J. abuzaid\n",
    "######################################\n",
    "\n",
    "# Dependencies and Setup\n",
    "import matplotlib.pyplot as plt\n",
    "import pandas as pd\n",
    "import numpy as np\n",
    "import requests\n",
    "\n",
    "# Import API key\n",
    "import api_keys\n",
    "\n",
    "# Incorporated citipy to determine city based on latitude and longitude\n",
    "from citipy import citipy\n",
    "\n",
    "# Output File (CSV)\n",
    "output_data_file = \"output_data/cities.csv\"\n",
    "\n",
    "# Range of latitudes and longitudes\n",
    "lat_range = (-90, 90)\n",
    "lng_range = (-180, 180)"
   ]
  },
  {
   "cell_type": "markdown",
   "metadata": {},
   "source": [
    "## Generate Cities List"
   ]
  },
  {
   "cell_type": "code",
   "execution_count": 2,
   "metadata": {},
   "outputs": [
    {
     "data": {
      "text/plain": [
       "610"
      ]
     },
     "execution_count": 2,
     "metadata": {},
     "output_type": "execute_result"
    }
   ],
   "source": [
    "# List for holding lat_lngs and cities\n",
    "lat_lngs = []\n",
    "cities = []\n",
    "\n",
    "# Create a set of random lat and lng combinations\n",
    "lats = np.random.uniform(low=-90.000, high=90.000, size=1500)\n",
    "lngs = np.random.uniform(low=-180.000, high=180.000, size=1500)\n",
    "lat_lngs = zip(lats, lngs)\n",
    "\n",
    "# Identify nearest city for each lat, lng combination\n",
    "for lat_lng in lat_lngs:\n",
    "    city = citipy.nearest_city(lat_lng[0], lat_lng[1]).city_name\n",
    "    \n",
    "    # If the city is unique, then add it to a our cities list\n",
    "    if city not in cities:\n",
    "        cities.append(city)\n",
    "\n",
    "# Print the city count to confirm sufficient count\n",
    "len(cities)"
   ]
  },
  {
   "cell_type": "code",
   "execution_count": 3,
   "metadata": {},
   "outputs": [
    {
     "name": "stdout",
     "output_type": "stream",
     "text": [
      "san cristobal\n",
      "tasiilaq\n",
      "henties bay\n",
      "road town\n",
      "airai\n",
      "dikson\n",
      "albany\n",
      "sola\n",
      "campbell river\n",
      "barrow\n",
      "bolivar\n",
      "ostersund\n",
      "omaha\n",
      "ushuaia\n",
      "borogontsy\n",
      "chepareria\n",
      "nikolskoye\n",
      "pimentel\n",
      "oranjestad\n",
      "attawapiskat\n",
      "esperance\n",
      "yellowknife\n",
      "pisco\n",
      "illoqqortoormiut\n",
      "sao filipe\n",
      "fukue\n",
      "vaini\n",
      "severo-kurilsk\n",
      "vitim\n",
      "lompoc\n",
      "clyde river\n",
      "georgetown\n",
      "belushya guba\n",
      "butaritari\n",
      "margate\n",
      "garoua boulai\n",
      "pavlogradka\n",
      "kapaa\n",
      "slatinany\n",
      "bluff\n",
      "chokurdakh\n",
      "barentsburg\n",
      "mataura\n",
      "caraballeda\n",
      "jiayuguan\n",
      "smithers\n",
      "bilma\n",
      "taolanaro\n",
      "hobart\n",
      "altus\n",
      "salinopolis\n",
      "cabinda\n",
      "boz\n",
      "znamenskoye\n",
      "natal\n",
      "bethel\n",
      "lichinga\n",
      "sioux lookout\n",
      "souillac\n",
      "kenai\n",
      "tuktoyaktuk\n",
      "pelym\n",
      "pelotas\n",
      "arraial do cabo\n",
      "uglekamensk\n",
      "manbij\n",
      "owando\n",
      "sataua\n",
      "kavieng\n",
      "ribeira grande\n",
      "rikitea\n",
      "avarua\n",
      "visim\n",
      "puerto ayora\n",
      "upernavik\n",
      "kavaratti\n",
      "stromness\n",
      "hofn\n",
      "luderitz\n",
      "bredasdorp\n",
      "aksu\n",
      "bambous virieux\n",
      "nizhneyansk\n",
      "tumpat\n",
      "klaksvik\n",
      "nanortalik\n",
      "honningsvag\n",
      "lebu\n",
      "cabo san lucas\n",
      "thompson\n",
      "cape town\n",
      "marzuq\n",
      "hermanus\n",
      "long beach\n",
      "takoradi\n",
      "bjornevatn\n",
      "panukulan\n",
      "busselton\n",
      "punta arenas\n",
      "goderich\n",
      "cabedelo\n",
      "hirara\n",
      "ilulissat\n",
      "vardo\n",
      "khatanga\n",
      "yairipok\n",
      "atuona\n",
      "yerbogachen\n",
      "laguna\n",
      "narsaq\n",
      "northam\n",
      "asmar\n",
      "saleaula\n",
      "kodiak\n",
      "strezhevoy\n",
      "barcelos\n",
      "caxito\n",
      "comodoro rivadavia\n",
      "hilo\n",
      "nome\n",
      "yomitan\n",
      "grivenskaya\n",
      "millinocket\n",
      "ayagoz\n",
      "hithadhoo\n",
      "uchaly\n",
      "sitka\n",
      "matao\n",
      "saryshagan\n",
      "saskylakh\n",
      "ostrovnoy\n",
      "port elizabeth\n",
      "talnakh\n",
      "belen\n",
      "parry sound\n",
      "chuy\n",
      "launceston\n",
      "iqaluit\n",
      "east london\n",
      "carnarvon\n",
      "temir\n",
      "nikel\n",
      "atkarsk\n",
      "port-gentil\n",
      "broken hill\n",
      "nadym\n",
      "ancud\n",
      "winnemucca\n",
      "cadiz\n",
      "mana\n",
      "ler\n",
      "kimbe\n",
      "nouakchott\n",
      "ozernovskiy\n",
      "andarab\n",
      "marcona\n",
      "tezu\n",
      "terrace\n",
      "husavik\n",
      "fort saint john\n",
      "tongliao\n",
      "porbandar\n",
      "santa cruz\n",
      "bucov\n",
      "krasnodar\n",
      "mar del plata\n",
      "eyl\n",
      "shizuishan\n",
      "fiditi\n",
      "serenje\n",
      "san patricio\n",
      "meulaboh\n",
      "kudahuvadhoo\n",
      "salinas\n",
      "port alfred\n",
      "leninsk\n",
      "portland\n",
      "narasannapeta\n",
      "new norfolk\n",
      "dauriya\n",
      "vila franca do campo\n",
      "trairi\n",
      "sur\n",
      "dongying\n",
      "qaanaaq\n",
      "sao joao da barra\n",
      "gayny\n",
      "tuatapere\n",
      "kachug\n",
      "cidreira\n",
      "havoysund\n",
      "beringovskiy\n",
      "sentyabrskiy\n",
      "tiksi\n",
      "santa maria\n",
      "saint-francois\n",
      "presidencia roque saenz pena\n",
      "humaita\n",
      "shingu\n",
      "mweka\n",
      "bargal\n",
      "faya\n",
      "sabang\n",
      "osypenko\n",
      "saldanha\n",
      "ponta delgada\n",
      "saint-augustin\n",
      "longlac\n",
      "coruripe\n",
      "kundiawa\n",
      "vanavara\n",
      "rabaul\n",
      "calama\n",
      "poum\n",
      "fortuna\n",
      "yatou\n",
      "ketchikan\n",
      "atchison\n",
      "sabha\n",
      "vesyegonsk\n",
      "nacogdoches\n",
      "amderma\n",
      "torres\n",
      "baherden\n",
      "haimen\n",
      "nhulunbuy\n",
      "christchurch\n",
      "provideniya\n",
      "lorengau\n",
      "coquimbo\n",
      "fasa\n",
      "gold coast\n",
      "samusu\n",
      "victoria\n",
      "vila\n",
      "muros\n",
      "isangel\n",
      "virginia beach\n",
      "santarem\n",
      "alofi\n",
      "katsuura\n",
      "jamestown\n",
      "leh\n",
      "eldikan\n",
      "cacapava do sul\n",
      "tungkang\n",
      "hay river\n",
      "pandaan\n",
      "ciudad bolivar\n",
      "rawannawi\n",
      "necochea\n",
      "russell\n",
      "bengkulu\n",
      "pangnirtung\n",
      "axim\n",
      "aklavik\n",
      "pacific grove\n",
      "thunder bay\n",
      "vanimo\n",
      "salo\n",
      "yar-sale\n",
      "tchibanga\n",
      "lastoursville\n",
      "kaitangata\n",
      "caravelas\n",
      "touros\n",
      "ust-nera\n",
      "gwanda\n",
      "ust-tsilma\n",
      "thio\n",
      "champerico\n",
      "oksfjord\n",
      "saint-philippe\n",
      "avera\n",
      "makat\n",
      "itupiranga\n",
      "konevo\n",
      "esenyurt\n",
      "waingapu\n",
      "vostok\n",
      "zhigansk\n",
      "yarada\n",
      "tucumcari\n",
      "hamilton\n",
      "edd\n",
      "norman wells\n",
      "hasaki\n",
      "tautira\n",
      "hambantota\n",
      "alotau\n",
      "bud\n",
      "kamenka\n",
      "san matias\n",
      "san juan\n",
      "tigil\n",
      "nabire\n",
      "nioro\n",
      "santa lucia\n",
      "bintulu\n",
      "geraldton\n",
      "belawan\n",
      "cascais\n",
      "hami\n",
      "duz\n",
      "tateyama\n",
      "tsihombe\n",
      "borovskoy\n",
      "cuauhtemoc\n",
      "mahebourg\n",
      "altay\n",
      "shelburne\n",
      "tarakan\n",
      "zhaodong\n",
      "mezen\n",
      "teya\n",
      "gweta\n",
      "westport\n",
      "leningradskiy\n",
      "kahului\n",
      "vestmannaeyjar\n",
      "lobito\n",
      "coalcoman\n",
      "rafsanjan\n",
      "gornopravdinsk\n",
      "calipan\n",
      "kilindoni\n",
      "panguna\n",
      "lima\n",
      "port keats\n",
      "nordby\n",
      "abha\n",
      "stornoway\n",
      "pozo colorado\n",
      "qaqortoq\n",
      "adilcevaz\n",
      "constitucion\n",
      "ostroleka\n",
      "salalah\n",
      "guerrero negro\n",
      "chipoka\n",
      "qianan\n",
      "mizdah\n",
      "baft\n",
      "dennery\n",
      "viligili\n",
      "polson\n",
      "coffs harbour\n",
      "college\n",
      "arlit\n",
      "eureka\n",
      "eydhafushi\n",
      "gat\n",
      "nileshwar\n",
      "cam pha\n",
      "taltal\n",
      "te anau\n",
      "faanui\n",
      "khani\n",
      "cheuskiny\n",
      "mount gambier\n",
      "tiarei\n",
      "temaraia\n",
      "umzimvubu\n",
      "grand river south east\n",
      "keti bandar\n",
      "jiazi\n",
      "cayenne\n",
      "chivay\n",
      "khilok\n",
      "bad laer\n",
      "east migpulao\n",
      "saint anthony\n",
      "jacqueville\n",
      "anito\n",
      "yerkoy\n",
      "bereda\n",
      "ormara\n",
      "ranong\n",
      "troy\n",
      "grand-lahou\n",
      "port-cartier\n",
      "padang\n",
      "vagay\n",
      "kruisfontein\n",
      "garden city\n",
      "saint-pierre\n",
      "sisimiut\n",
      "marsh harbour\n",
      "beloha\n",
      "karratha\n",
      "kolarovo\n",
      "izhevskoye\n",
      "tual\n",
      "erenhot\n",
      "selikhino\n",
      "delfzijl\n",
      "chagda\n",
      "bitung\n",
      "cintalapa\n",
      "ralivka\n",
      "santa vitoria do palmar\n",
      "coihaique\n",
      "tiznit\n",
      "namsos\n",
      "belmonte\n",
      "horsham\n",
      "mayo\n",
      "athabasca\n",
      "lagoa\n",
      "pangai\n",
      "vozhega\n",
      "haldia\n",
      "hammerfest\n",
      "maragogi\n",
      "iisalmi\n",
      "kaduqli\n",
      "hadsund\n",
      "komsomolskiy\n",
      "port lincoln\n",
      "gizo\n",
      "huilong\n",
      "norden\n",
      "vila do maio\n",
      "slyudyanka\n",
      "helong\n",
      "san jose\n",
      "nouadhibou\n",
      "mrirt\n",
      "half moon bay\n",
      "kungalv\n",
      "meyungs\n",
      "vao\n",
      "galesong\n",
      "zabol\n",
      "janauba\n",
      "cabano\n",
      "nguiu\n",
      "palauig\n",
      "makakilo city\n",
      "lyubinskiy\n",
      "nago\n",
      "benguela\n",
      "codrington\n",
      "alizai\n",
      "barra do garcas\n",
      "weligama\n",
      "krasnyy oktyabr\n",
      "chapais\n",
      "ust-kamchatsk\n",
      "roanne\n",
      "villa carlos paz\n",
      "freeport\n",
      "mouzakion\n",
      "bowen\n",
      "tomatlan\n",
      "port blair\n",
      "vaitupu\n",
      "cockburn town\n",
      "sydney\n",
      "sibu\n",
      "port augusta\n",
      "gombe\n",
      "nahavand\n",
      "saint george\n",
      "hanyang\n",
      "umm kaddadah\n",
      "bani walid\n",
      "bitam\n",
      "amurzet\n",
      "tarskoye\n",
      "longyearbyen\n",
      "lasa\n",
      "tukrah\n",
      "vesoul\n",
      "inver grove heights\n",
      "svetlyy\n",
      "vicuna\n",
      "naze\n",
      "atambua\n",
      "ahipara\n",
      "tazovskiy\n",
      "castro\n",
      "anadyr\n",
      "boende\n",
      "solnechnyy\n",
      "floriano\n",
      "buala\n",
      "dunedin\n",
      "virarajendrapet\n",
      "lata\n",
      "bontang\n",
      "neryungri\n",
      "jerez\n",
      "ushtobe\n",
      "gao\n",
      "cairns\n",
      "mount pleasant\n",
      "samalaeulu\n",
      "llanes\n",
      "tambura\n",
      "manubah\n",
      "flinders\n",
      "bay-khaak\n",
      "mnogovershinnyy\n",
      "mutsamudu\n",
      "harnosand\n",
      "buchanan\n",
      "knoxville\n",
      "bairiki\n",
      "bandarbeyla\n",
      "terrace bay\n",
      "wahran\n",
      "jacareacanga\n",
      "rio gallegos\n",
      "birobidzhan\n",
      "tura\n",
      "dawei\n",
      "berlevag\n",
      "sao pedro do sul\n",
      "sterling\n",
      "pilar\n",
      "korla\n",
      "shabqadar\n",
      "oranjemund\n",
      "inuvik\n",
      "ape\n",
      "skeldon\n",
      "minab\n",
      "grand gaube\n",
      "port hawkesbury\n",
      "frutigen\n",
      "paraiso\n",
      "maridi\n",
      "itarema\n",
      "solovetskiy\n",
      "inhambane\n",
      "mareeba\n",
      "pevek\n",
      "san andres\n",
      "acapulco\n",
      "ayr\n",
      "goure\n",
      "oktyabrskiy\n",
      "halalo\n",
      "camacupa\n",
      "santiago del estero\n",
      "la ronge\n",
      "egvekinot\n",
      "salmas\n",
      "yulara\n",
      "paris\n",
      "kingaroy\n",
      "ponta do sol\n",
      "huambo\n",
      "asau\n",
      "bonavista\n",
      "awjilah\n",
      "gladstone\n",
      "dryden\n",
      "oriximina\n",
      "los llanos de aridane\n",
      "bubaque\n",
      "rongcheng\n",
      "namatanai\n",
      "radevormwald\n",
      "vila velha\n",
      "khorramshahr\n",
      "genoa\n",
      "daxian\n",
      "shelabolikha\n",
      "verkhnyaya inta\n",
      "palmas de monte alto\n",
      "halifax\n",
      "madang\n",
      "teseney\n",
      "tilichiki\n",
      "tamandare\n",
      "iwanai\n",
      "baykit\n",
      "soldotna\n",
      "liku\n",
      "libreville\n",
      "yeletskiy\n",
      "lewistown\n",
      "paragominas\n",
      "oussouye\n",
      "norton shores\n",
      "piney green\n",
      "guarapari\n",
      "machachi\n",
      "punta alta\n",
      "batagay-alyta\n",
      "boden\n",
      "landau\n",
      "pathein\n",
      "byron bay\n",
      "dingle\n",
      "aquiraz\n",
      "livingston\n",
      "cherskiy\n",
      "camacari\n",
      "khandbari\n",
      "wembley\n",
      "pingliang\n",
      "genhe\n",
      "swan river\n",
      "paciran\n",
      "kyren\n",
      "belaya gora\n",
      "newburgh\n"
     ]
    }
   ],
   "source": [
    "for city in cities:\n",
    "    print(city)"
   ]
  },
  {
   "cell_type": "markdown",
   "metadata": {},
   "source": [
    "## Perform API Calls"
   ]
  },
  {
   "cell_type": "code",
   "execution_count": 4,
   "metadata": {},
   "outputs": [],
   "source": [
    "# OpenWeatherMap API Key\n",
    "api_key = api_keys.api_key\n",
    "\n",
    "# Starting URL for Weather Map API Call to meet the requirements\n",
    "url = \"http://api.openweathermap.org/data/2.5/weather?units=Imperial&APPID=\" + api_key\n"
   ]
  },
  {
   "cell_type": "code",
   "execution_count": 5,
   "metadata": {},
   "outputs": [],
   "source": [
    "# build the query url, request the data, convert to JSON\n",
    "response = requests.get(url + \"&q=\" + \"los angeles\").json()"
   ]
  },
  {
   "cell_type": "code",
   "execution_count": 6,
   "metadata": {},
   "outputs": [
    {
     "data": {
      "text/plain": [
       "{'coord': {'lon': -118.24, 'lat': 34.05},\n",
       " 'weather': [{'id': 801,\n",
       "   'main': 'Clouds',\n",
       "   'description': 'few clouds',\n",
       "   'icon': '02n'}],\n",
       " 'base': 'stations',\n",
       " 'main': {'temp': 54.77,\n",
       "  'pressure': 1020,\n",
       "  'humidity': 89,\n",
       "  'temp_min': 50,\n",
       "  'temp_max': 57.02},\n",
       " 'visibility': 12874,\n",
       " 'wind': {'speed': 2.73, 'deg': 64.0035},\n",
       " 'clouds': {'all': 20},\n",
       " 'dt': 1547189940,\n",
       " 'sys': {'type': 1,\n",
       "  'id': 3694,\n",
       "  'message': 0.0049,\n",
       "  'country': 'US',\n",
       "  'sunrise': 1547218738,\n",
       "  'sunset': 1547254997},\n",
       " 'id': 5368361,\n",
       " 'name': 'Los Angeles',\n",
       " 'cod': 200}"
      ]
     },
     "execution_count": 6,
     "metadata": {},
     "output_type": "execute_result"
    }
   ],
   "source": [
    "response"
   ]
  },
  {
   "cell_type": "code",
   "execution_count": 7,
   "metadata": {},
   "outputs": [
    {
     "data": {
      "text/plain": [
       "dict_keys(['coord', 'weather', 'base', 'main', 'visibility', 'wind', 'clouds', 'dt', 'sys', 'id', 'name', 'cod'])"
      ]
     },
     "execution_count": 7,
     "metadata": {},
     "output_type": "execute_result"
    }
   ],
   "source": [
    "# Need Data for latitude, Longtitude, humidity, wind speed, temperature, cloudiness, country, date:\n",
    "response.keys()"
   ]
  },
  {
   "cell_type": "code",
   "execution_count": 8,
   "metadata": {},
   "outputs": [
    {
     "data": {
      "text/plain": [
       "34.05"
      ]
     },
     "execution_count": 8,
     "metadata": {},
     "output_type": "execute_result"
    }
   ],
   "source": [
    "# Latitude\n",
    "response[\"coord\"][\"lat\"]"
   ]
  },
  {
   "cell_type": "code",
   "execution_count": 9,
   "metadata": {},
   "outputs": [
    {
     "data": {
      "text/plain": [
       "-118.24"
      ]
     },
     "execution_count": 9,
     "metadata": {},
     "output_type": "execute_result"
    }
   ],
   "source": [
    "# longtitude\n",
    "response[\"coord\"][\"lon\"]"
   ]
  },
  {
   "cell_type": "code",
   "execution_count": 10,
   "metadata": {},
   "outputs": [
    {
     "data": {
      "text/plain": [
       "89"
      ]
     },
     "execution_count": 10,
     "metadata": {},
     "output_type": "execute_result"
    }
   ],
   "source": [
    "# Humidity\n",
    "response[\"main\"][\"humidity\"]"
   ]
  },
  {
   "cell_type": "code",
   "execution_count": 11,
   "metadata": {},
   "outputs": [
    {
     "data": {
      "text/plain": [
       "2.73"
      ]
     },
     "execution_count": 11,
     "metadata": {},
     "output_type": "execute_result"
    }
   ],
   "source": [
    "# Wind Speed\n",
    "response[\"wind\"][\"speed\"]"
   ]
  },
  {
   "cell_type": "code",
   "execution_count": 12,
   "metadata": {},
   "outputs": [
    {
     "data": {
      "text/plain": [
       "54.77"
      ]
     },
     "execution_count": 12,
     "metadata": {},
     "output_type": "execute_result"
    }
   ],
   "source": [
    "# Temperature in Fehrenheit\n",
    "response[\"main\"][\"temp\"]"
   ]
  },
  {
   "cell_type": "code",
   "execution_count": 13,
   "metadata": {},
   "outputs": [
    {
     "data": {
      "text/plain": [
       "20"
      ]
     },
     "execution_count": 13,
     "metadata": {},
     "output_type": "execute_result"
    }
   ],
   "source": [
    "# Cloudiness\n",
    "response[\"clouds\"][\"all\"]"
   ]
  },
  {
   "cell_type": "code",
   "execution_count": 14,
   "metadata": {},
   "outputs": [
    {
     "data": {
      "text/plain": [
       "'Los Angeles'"
      ]
     },
     "execution_count": 14,
     "metadata": {},
     "output_type": "execute_result"
    }
   ],
   "source": [
    "# City Name\n",
    "response[\"name\"]"
   ]
  },
  {
   "cell_type": "code",
   "execution_count": 15,
   "metadata": {},
   "outputs": [
    {
     "data": {
      "text/plain": [
       "'US'"
      ]
     },
     "execution_count": 15,
     "metadata": {},
     "output_type": "execute_result"
    }
   ],
   "source": [
    "# Country two letter code\n",
    "response[\"sys\"][\"country\"]"
   ]
  },
  {
   "cell_type": "code",
   "execution_count": 16,
   "metadata": {},
   "outputs": [
    {
     "data": {
      "text/plain": [
       "1547189940"
      ]
     },
     "execution_count": 16,
     "metadata": {},
     "output_type": "execute_result"
    }
   ],
   "source": [
    "# Date of the data taken\n",
    "response['dt']"
   ]
  },
  {
   "cell_type": "code",
   "execution_count": 29,
   "metadata": {
    "scrolled": true
   },
   "outputs": [
    {
     "name": "stdout",
     "output_type": "stream",
     "text": [
      "attawapiskat not found. Skipping...\n",
      "illoqqortoormiut not found. Skipping...\n",
      "belushya guba not found. Skipping...\n",
      "barentsburg not found. Skipping...\n",
      "taolanaro not found. Skipping...\n",
      "sataua not found. Skipping...\n",
      "nizhneyansk not found. Skipping...\n",
      "saleaula not found. Skipping...\n",
      "yomitan not found. Skipping...\n",
      "saryshagan not found. Skipping...\n",
      "andarab not found. Skipping...\n",
      "marcona not found. Skipping...\n",
      "fort saint john not found. Skipping...\n",
      "sentyabrskiy not found. Skipping...\n",
      "bargal not found. Skipping...\n",
      "longlac not found. Skipping...\n",
      "amderma not found. Skipping...\n",
      "samusu not found. Skipping...\n",
      "santarem not found. Skipping...\n",
      "eldikan not found. Skipping...\n",
      "tungkang not found. Skipping...\n",
      "rawannawi not found. Skipping...\n",
      "bengkulu not found. Skipping...\n",
      "alotau not found. Skipping...\n",
      "duz not found. Skipping...\n",
      "tsihombe not found. Skipping...\n",
      "coalcoman not found. Skipping...\n",
      "stornoway not found. Skipping...\n",
      "viligili not found. Skipping...\n",
      "cam pha not found. Skipping...\n",
      "cheuskiny not found. Skipping...\n",
      "temaraia not found. Skipping...\n",
      "umzimvubu not found. Skipping...\n",
      "grand river south east not found. Skipping...\n",
      "chagda not found. Skipping...\n",
      "mrirt not found. Skipping...\n",
      "meyungs not found. Skipping...\n",
      "nguiu not found. Skipping...\n",
      "ust-kamchatsk not found. Skipping...\n",
      "mouzakion not found. Skipping...\n",
      "vaitupu not found. Skipping...\n",
      "tukrah not found. Skipping...\n",
      "svetlyy not found. Skipping...\n",
      "vicuna not found. Skipping...\n",
      "samalaeulu not found. Skipping...\n",
      "tambura not found. Skipping...\n",
      "manubah not found. Skipping...\n",
      "mutsamudu not found. Skipping...\n",
      "bairiki not found. Skipping...\n",
      "wahran not found. Skipping...\n",
      "korla not found. Skipping...\n",
      "maridi not found. Skipping...\n",
      "solovetskiy not found. Skipping...\n",
      "halalo not found. Skipping...\n",
      "asau not found. Skipping...\n",
      "daxian not found. Skipping...\n",
      "yeletskiy not found. Skipping...\n"
     ]
    }
   ],
   "source": [
    "# construct API calls\n",
    "lat = []\n",
    "long=[]\n",
    "humidity = []\n",
    "wind_speed = []\n",
    "temp = []\n",
    "cloudness = []\n",
    "city_name = []\n",
    "country = []\n",
    "dt = []\n",
    "\n",
    "for city in cities:\n",
    "    try:\n",
    "        # perform an api call on the city\n",
    "        response = requests.get(url + \"&q=\" + city).json()\n",
    "\n",
    "        # parse the information from the response (JSON)\n",
    "        lat.append(response[\"coord\"][\"lat\"])\n",
    "        long.append(response[\"coord\"][\"lon\"])\n",
    "        humidity.append(response[\"main\"][\"humidity\"])\n",
    "        wind_speed.append(response[\"wind\"][\"speed\"])\n",
    "        temp.append(response[\"main\"][\"temp\"])\n",
    "        cloudness.append(response[\"clouds\"][\"all\"])\n",
    "        city_name.append(response[\"name\"])  \n",
    "        country.append(response[\"sys\"][\"country\"])\n",
    "        dt.append(response[\"dt\"])\n",
    "    \n",
    "    except:\n",
    "        print(city + \" not found. Skipping...\")\n",
    "        pass"
   ]
  },
  {
   "cell_type": "code",
   "execution_count": 33,
   "metadata": {},
   "outputs": [],
   "source": [
    "# analyze the data after converting into DataFrame\n",
    "df = pd.DataFrame({\"City\": city_name,\n",
    "                   \"Cloudness\": cloudness,\n",
    "                   \"Country\": country,\n",
    "                   \"Date\": dt,\n",
    "                   \"Humidity\": humidity,\n",
    "                   \"Lat\": lat,\n",
    "                   \"Lng\":long,\n",
    "                   \"Temperature\": temp,\n",
    "                  \"Wind Speed\": wind_speed\n",
    "                  })"
   ]
  },
  {
   "cell_type": "code",
   "execution_count": 34,
   "metadata": {},
   "outputs": [
    {
     "data": {
      "text/html": [
       "<div>\n",
       "<style scoped>\n",
       "    .dataframe tbody tr th:only-of-type {\n",
       "        vertical-align: middle;\n",
       "    }\n",
       "\n",
       "    .dataframe tbody tr th {\n",
       "        vertical-align: top;\n",
       "    }\n",
       "\n",
       "    .dataframe thead th {\n",
       "        text-align: right;\n",
       "    }\n",
       "</style>\n",
       "<table border=\"1\" class=\"dataframe\">\n",
       "  <thead>\n",
       "    <tr style=\"text-align: right;\">\n",
       "      <th></th>\n",
       "      <th>City</th>\n",
       "      <th>Cloudness</th>\n",
       "      <th>Country</th>\n",
       "      <th>Date</th>\n",
       "      <th>Humidity</th>\n",
       "      <th>Lat</th>\n",
       "      <th>Lng</th>\n",
       "      <th>Temperature</th>\n",
       "      <th>Wind Speed</th>\n",
       "    </tr>\n",
       "  </thead>\n",
       "  <tbody>\n",
       "    <tr>\n",
       "      <th>0</th>\n",
       "      <td>San Cristobal</td>\n",
       "      <td>90</td>\n",
       "      <td>EC</td>\n",
       "      <td>1547190000</td>\n",
       "      <td>100</td>\n",
       "      <td>-0.39</td>\n",
       "      <td>-78.55</td>\n",
       "      <td>53.60</td>\n",
       "      <td>3.36</td>\n",
       "    </tr>\n",
       "    <tr>\n",
       "      <th>1</th>\n",
       "      <td>Tasiilaq</td>\n",
       "      <td>88</td>\n",
       "      <td>GL</td>\n",
       "      <td>1547189400</td>\n",
       "      <td>79</td>\n",
       "      <td>65.61</td>\n",
       "      <td>-37.64</td>\n",
       "      <td>19.40</td>\n",
       "      <td>10.29</td>\n",
       "    </tr>\n",
       "    <tr>\n",
       "      <th>2</th>\n",
       "      <td>Henties Bay</td>\n",
       "      <td>8</td>\n",
       "      <td>NA</td>\n",
       "      <td>1547192576</td>\n",
       "      <td>100</td>\n",
       "      <td>-22.12</td>\n",
       "      <td>14.28</td>\n",
       "      <td>65.01</td>\n",
       "      <td>5.08</td>\n",
       "    </tr>\n",
       "    <tr>\n",
       "      <th>3</th>\n",
       "      <td>Road Town</td>\n",
       "      <td>75</td>\n",
       "      <td>VG</td>\n",
       "      <td>1547189580</td>\n",
       "      <td>87</td>\n",
       "      <td>18.42</td>\n",
       "      <td>-64.62</td>\n",
       "      <td>75.92</td>\n",
       "      <td>4.70</td>\n",
       "    </tr>\n",
       "    <tr>\n",
       "      <th>4</th>\n",
       "      <td>Airai</td>\n",
       "      <td>68</td>\n",
       "      <td>TL</td>\n",
       "      <td>1547192577</td>\n",
       "      <td>83</td>\n",
       "      <td>-8.93</td>\n",
       "      <td>125.41</td>\n",
       "      <td>77.21</td>\n",
       "      <td>1.95</td>\n",
       "    </tr>\n",
       "  </tbody>\n",
       "</table>\n",
       "</div>"
      ],
      "text/plain": [
       "            City  Cloudness Country        Date  Humidity    Lat     Lng  \\\n",
       "0  San Cristobal         90      EC  1547190000       100  -0.39  -78.55   \n",
       "1       Tasiilaq         88      GL  1547189400        79  65.61  -37.64   \n",
       "2    Henties Bay          8      NA  1547192576       100 -22.12   14.28   \n",
       "3      Road Town         75      VG  1547189580        87  18.42  -64.62   \n",
       "4          Airai         68      TL  1547192577        83  -8.93  125.41   \n",
       "\n",
       "   Temperature  Wind Speed  \n",
       "0        53.60        3.36  \n",
       "1        19.40       10.29  \n",
       "2        65.01        5.08  \n",
       "3        75.92        4.70  \n",
       "4        77.21        1.95  "
      ]
     },
     "execution_count": 34,
     "metadata": {},
     "output_type": "execute_result"
    }
   ],
   "source": [
    "df.head()"
   ]
  },
  {
   "cell_type": "code",
   "execution_count": 38,
   "metadata": {},
   "outputs": [
    {
     "data": {
      "image/png": "[encoded data removed]",
      "text/plain": [
       "<Figure size 432x288 with 1 Axes>"
      ]
     },
     "metadata": {
      "needs_background": "light"
     },
     "output_type": "display_data"
    }
   ],
   "source": [
    "# Scatter plot to showcase the relationships:Temperature (F) vs. Latitude\n",
    "# (marker=\"o\", facecolors=\"red\", edgecolors=\"black\", s=scoop_price)\n",
    "plt.scatter(df[\"Lat\"], df[\"Temperature\"], marker=\"o\", facecolors=\"red\", edgecolors=\"black\")\n",
    "\n",
    "# Create a title, x label, and y label for our chart\n",
    "plt.title(\"City Latitude v. Temperature (01/11/2019)\")\n",
    "plt.xlabel(\"Latitude\")\n",
    "plt.ylabel(\"Temperature (Fehrenheit)\")\n",
    "plt.xlim(-80, 100)\n",
    "plt.ylim(-100, 150)\n",
    "plt.grid()\n",
    "\n",
    "# # Save the image of the chart and print to screen\n",
    "plt.savefig('LatTempScat.png')\n",
    "plt.show()"
   ]
  },
  {
   "cell_type": "code",
   "execution_count": null,
   "metadata": {},
   "outputs": [],
   "source": [
    "# Description of three observable trends based on the above data\n",
    "# 1- The majority of the cities temperature in the random sample are above zero fehrenheit in this time of the year\n",
    "# 2- Very few cities tempreture are above 100 degree fehrenheit.\n",
    "# 3- More cities tempreture are below zero than above 100 degree fehrenheit."
   ]
  },
  {
   "cell_type": "code",
   "execution_count": 39,
   "metadata": {},
   "outputs": [
    {
     "data": {
      "image/png": "[encoded data removed]",
      "text/plain": [
       "<Figure size 432x288 with 1 Axes>"
      ]
     },
     "metadata": {
      "needs_background": "light"
     },
     "output_type": "display_data"
    }
   ],
   "source": [
    "# Scatter plot to showcase the relationships: # Scatter plot to showcase the relationships: Humidity (%) vs. Latitude\n",
    "# (marker=\"o\", facecolors=\"blue\", edgecolors=\"black\", s=scoop_price)\n",
    "plt.scatter(df[\"Lat\"], df[\"Humidity\"], marker=\"o\", facecolors=\"blue\", edgecolors=\"black\")\n",
    "\n",
    "# Create a title, x label, and y label for our chart\n",
    "plt.title(\"City Latitude v.Humidity (01/11/2019)\")\n",
    "plt.xlabel(\"Latitude\")\n",
    "plt.ylabel(\"Humidity (%)\")\n",
    "plt.grid()\n",
    "plt.xlim(-80, 100)\n",
    "plt.ylim(-20, 120)\n",
    "\n",
    "# # Save the image of the chart and print to screen\n",
    "plt.savefig('LatHumScat.png')\n",
    "plt.show()"
   ]
  },
  {
   "cell_type": "code",
   "execution_count": null,
   "metadata": {},
   "outputs": [],
   "source": [
    "# Description of three observable trends based on the above data\n",
    "# 1- The majority of the humidities for the random sample are above 60% for this rtime of the year.\n",
    "# 2- very few cities in the random sample are below 20% humidity for this time of the year.\n",
    "# 3- More cities with positive latitude than negative."
   ]
  },
  {
   "cell_type": "code",
   "execution_count": 41,
   "metadata": {},
   "outputs": [
    {
     "data": {
      "image/png": "[encoded data removed]",
      "text/plain": [
       "<Figure size 432x288 with 1 Axes>"
      ]
     },
     "metadata": {
      "needs_background": "light"
     },
     "output_type": "display_data"
    }
   ],
   "source": [
    "# Scatter plot to showcase the relationships: # Scatter plot to showcase the relationships: Cloudiness (%) vs. Latitude\n",
    "# (marker=\"o\", facecolors=\"gray\", edgecolors=\"black\", s=scoop_price)\n",
    "plt.scatter(df[\"Lat\"], df[\"Cloudness\"], marker=\"o\", facecolors=\"grey\", edgecolors=\"black\")\n",
    "\n",
    "# Create a title, x label, and y label for our chart\n",
    "plt.title(\"City Latitude v. Cloudness (01/11/2019)\")\n",
    "plt.xlabel(\"Latitude\")\n",
    "plt.ylabel(\"Cloudness (%)\")\n",
    "plt.xlim(-80, 100)\n",
    "plt.ylim(-20, 120)\n",
    "plt.grid()\n",
    "\n",
    "# # Save the image of the chart and print to screen\n",
    "plt.savefig('LatCloudScat.png')\n",
    "plt.show()"
   ]
  },
  {
   "cell_type": "code",
   "execution_count": null,
   "metadata": {},
   "outputs": [],
   "source": [
    "# Description of three observable trends based on the above data\n",
    "# 1- Very few cities in the random sample has a 100% cloudness for this time of the year.\n",
    "# 2- More cities wwith zero cloudness to 100% cloudness.\n",
    "# 3- A fewer citiesw has 40 to 60% cloudness."
   ]
  },
  {
   "cell_type": "code",
   "execution_count": 42,
   "metadata": {},
   "outputs": [
    {
     "data": {
      "image/png": "[encoded data removed]",
      "text/plain": [
       "<Figure size 432x288 with 1 Axes>"
      ]
     },
     "metadata": {
      "needs_background": "light"
     },
     "output_type": "display_data"
    }
   ],
   "source": [
    "# Scatter plot to showcase the relationships: # Scatter plot to showcase the relationships: Wind Speed (mph) vs. Latitude\n",
    "# (marker=\"o\", facecolors=\"orange\", edgecolors=\"black\", s=scoop_price)\n",
    "plt.scatter(df[\"Lat\"], df[\"Wind Speed\"], marker=\"o\", facecolors=\"orange\", edgecolors=\"black\")\n",
    "\n",
    "# Create a title, x label, and y label for our chart\n",
    "plt.title(\"City Latitude v. Wind Speed (01/11/2019)\")\n",
    "plt.xlabel(\"Latitude\")\n",
    "plt.ylabel(\"Wind Speed (MPH)\")\n",
    "plt.xlim(-80, 100)\n",
    "plt.ylim(-5, 40)\n",
    "plt.grid()\n",
    "\n",
    "# # Save the image of the chart and print to screen\n",
    "plt.savefig('LatWindScat.png')\n",
    "plt.show()"
   ]
  },
  {
   "cell_type": "code",
   "execution_count": null,
   "metadata": {},
   "outputs": [],
   "source": [
    "# Description of three observable trends based on the above data\n",
    "# 1- Majirity of the cities wind speed in this random sample is less than 15 mph for this time of the year.\n",
    "# 2- Only two cities in the random sample has wind speed of over 35 mph and they have a positive latitude.\n",
    "# 3- The maximum wind speed for the cities with negative latitude is around 25 mph in this random sample at this time \n",
    "#   of the year."
   ]
  },
  {
   "cell_type": "code",
   "execution_count": 43,
   "metadata": {},
   "outputs": [],
   "source": [
    "df.to_csv('cities_weather.csv')"
   ]
  }
 ],
 "metadata": {
  "anaconda-cloud": {},
  "kernelspec": {
   "display_name": "Python 3",
   "language": "python",
   "name": "python3"
  },
  "language_info": {
   "codemirror_mode": {
    "name": "ipython",
    "version": 3
   },
   "file_extension": ".py",
   "mimetype": "text/x-python",
   "name": "python",
   "nbconvert_exporter": "python",
   "pygments_lexer": "ipython3",
   "version": "3.7.0"
  }
 },
 "nbformat": 4,
 "nbformat_minor": 1
}
